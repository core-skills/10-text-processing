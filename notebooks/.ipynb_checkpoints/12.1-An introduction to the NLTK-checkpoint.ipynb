{
 "cells": [
  {
   "cell_type": "markdown",
   "metadata": {
    "colab_type": "text",
    "id": "qSP1boAhg0zq"
   },
   "source": [
    "# 12.1 - An Introduction to the NLTK\n",
    "\n",
    "This file introduces the reader to the Python Natural Langauge Toolkit (NLTK).\n",
    "\n",
    "The Python NLTK is a set of modules and corpora enabling the reader to do natural langauge processing against corpora of one or more texts. It goes beyond text minnig and provides tools to do machine learning, but this notebook barely scratches that surface. The intention of this notebook is to provide the reader with exposure to numerous natural language processing techniques that are used in text preprocessing and analysis.\n",
    "\n",
    "Through the use of this Notebook, the reader ought to be able to get a flavor for what the Toolkit can do without the need to completly understand the Python language.\n",
    "\n",
    "Quoted text is as defined on the subject matters Wikipedia page.\n",
    "\n",
    "--  \n",
    "*Created*<br>\n",
    "Eric Lease Morgan _<emorgan@nd.edu_><br>\n",
    "April 12, 2018<br>\n",
    "*Modified*<br>\n",
    "Tyler Bikaun _<tyler.bikaun@research.uwa.edu.au_><br>\n",
    "March 24, 2019<br>"
   ]
  },
  {
   "cell_type": "markdown",
   "metadata": {
    "colab_type": "text",
    "id": "mM-HOC_9tnuU"
   },
   "source": [
    "### Loading Packages"
   ]
  },
  {
   "cell_type": "code",
   "execution_count": null,
   "metadata": {
    "colab": {},
    "colab_type": "code",
    "id": "Nq3V_tq4tnGT"
   },
   "outputs": [],
   "source": [
    "# For Google Drive mounting\n",
    "from google.colab import drive\n",
    "\n",
    "# General\n",
    "from pprint import pprint\n",
    "\n",
    "# NLTK\n",
    "# from nltk import *    # bad practice to load everything, it also makes it hard to identify when nltk is being used.\n",
    "import nltk\n",
    "from nltk.corpus import stopwords\n",
    "from nltk.stem import PorterStemmer"
   ]
  },
  {
   "cell_type": "markdown",
   "metadata": {
    "colab_type": "text",
    "id": "FjTJgN_OtGnD"
   },
   "source": [
    "### Loading text data\n",
    "The data used within this notebook is the novel 'Walden and on the duty of civil disobedience' authored by Henry David Thorea.\n",
    "\n",
    "Accessed under the The Project Gutenberg License\n",
    "\n",
    "Source: https://www.gutenberg.org/files/205/205-0.txt\n"
   ]
  },
  {
   "cell_type": "code",
   "execution_count": null,
   "metadata": {
    "colab": {
     "base_uri": "https://localhost:8080/",
     "height": 122
    },
    "colab_type": "code",
    "executionInfo": {
     "elapsed": 17025,
     "status": "ok",
     "timestamp": 1585054914471,
     "user": {
      "displayName": "Tyler Bikaun",
      "photoUrl": "",
      "userId": "18384825377619195869"
     },
     "user_tz": -480
    },
    "id": "ta5bJwwAhAPF",
    "outputId": "1192184a-95c8-423d-ce53-5362222e801b"
   },
   "outputs": [
    {
     "name": "stdout",
     "output_type": "stream",
     "text": [
      "Go to this URL in a browser: https://accounts.google.com/o/oauth2/auth?client_id=947318989803-6bn6qk8qdgf4n4g3pfee6491hc0brc4i.apps.googleusercontent.com&redirect_uri=urn%3aietf%3awg%3aoauth%3a2.0%3aoob&response_type=code&scope=email%20https%3a%2f%2fwww.googleapis.com%2fauth%2fdocs.test%20https%3a%2f%2fwww.googleapis.com%2fauth%2fdrive%20https%3a%2f%2fwww.googleapis.com%2fauth%2fdrive.photos.readonly%20https%3a%2f%2fwww.googleapis.com%2fauth%2fpeopleapi.readonly\n",
      "\n",
      "Enter your authorization code:\n",
      "··········\n",
      "Mounted at /content/drive\n"
     ]
    }
   ],
   "source": [
    "# Mount google drive to notebook to access data.\n",
    "# This will prompt you to enter an authentication code by permitting access to the drive.\n",
    "drive.mount('/content/drive')"
   ]
  },
  {
   "cell_type": "code",
   "execution_count": null,
   "metadata": {
    "colab": {},
    "colab_type": "code",
    "id": "dUlaSQwsg0zv"
   },
   "outputs": [],
   "source": [
    "# Define the location of a plain text file for analysis\n",
    "FILE = '/content/drive/My Drive/12-text-processing-master/data/walden.txt'"
   ]
  },
  {
   "cell_type": "code",
   "execution_count": null,
   "metadata": {
    "colab": {
     "base_uri": "https://localhost:8080/",
     "height": 1000
    },
    "colab_type": "code",
    "executionInfo": {
     "elapsed": 18952,
     "status": "ok",
     "timestamp": 1585054916411,
     "user": {
      "displayName": "Tyler Bikaun",
      "photoUrl": "",
      "userId": "18384825377619195869"
     },
     "user_tz": -480
    },
    "id": "KrcPlKXOg00B",
    "outputId": "9e1f463f-d74b-4e67-b769-be83f6b7b8bd"
   },
   "outputs": [
    {
     "name": "stdout",
     "output_type": "stream",
     "text": [
      "WALDEN\n",
      "\n",
      "\n",
      "\n",
      "\n",
      "and\n",
      "\n",
      "\n",
      "\n",
      "ON THE DUTY OF CIVIL DISOBEDIENCE\n",
      "\n",
      "\n",
      "\n",
      "by Henry David Thoreau\n",
      "\n",
      "\n",
      "cover\n",
      "\n",
      "\n",
      "Contents\n",
      "\n",
      "\n",
      " WALDEN\n",
      "\n",
      " Economy\n",
      " Where I Lived, and What I Lived For\n",
      " Reading\n",
      " Sounds\n",
      " Solitude\n",
      " Visitors\n",
      " The Bean-Field\n",
      " The Village\n",
      " The Ponds\n",
      " Baker Farm\n",
      " Higher Laws\n",
      " Brute Neighbors\n",
      " House-Warming\n",
      " Former Inhabitants and Winter Visitors\n",
      " Winter Animals\n",
      " The Pond in Winter\n",
      " Spring\n",
      " Conclusion\n",
      "\n",
      " ON THE DUTY OF CIVIL DISOBEDIENCE\n",
      "\n",
      "\n",
      "\n",
      "WALDEN\n",
      "\n",
      "Economy\n",
      "\n",
      "When I wrote the following pages, or rather the bulk of them, I lived\n",
      "alone, in the woods, a mile from any neighbor, in a house which I had\n",
      "built myself, on the shore of Walden Pond, in Concord, Massachusetts,\n",
      "and earned my living by the labor of my hands only. I lived there two\n",
      "years and two months. At present I am a sojourner in civilized life\n",
      "again.\n",
      "\n",
      "I should not obtrude my affairs so much on the notice of my readers if\n",
      "very particular inquiries had not been made by my townsmen concerning\n",
      "my mode of life, which some would call impertinent, though they\n"
     ]
    }
   ],
   "source": [
    "# Read the entire text file and display part of the result (first 1000 characters)\n",
    "handle = open(FILE,'r', encoding='utf-8-sig')\n",
    "data = handle.read()\n",
    "print(data[:1000])"
   ]
  },
  {
   "cell_type": "markdown",
   "metadata": {
    "colab_type": "text",
    "id": "1YM4M8M-uAYr"
   },
   "source": [
    "## Natural Language Processing\n",
    "Agenda:\n",
    "1.   Tokenization\n",
    "2.   Stop Words\n",
    "3.   Feature distributions\n",
    "4.   N-grams\n",
    "5.   Stemming\n",
    "6.   Concordancing\n",
    "7.   Dispersion Plotting\n",
    "8.   Bi-gram Signifiance\n",
    "9.   Word contexts\n",
    "10.  Word similarities\n",
    "11.  Parts-of-Speech (POS)\n",
    "12.  Named entity extraction\n"
   ]
  },
  {
   "cell_type": "markdown",
   "metadata": {
    "colab_type": "text",
    "id": "xtWXEgONo_fA"
   },
   "source": [
    "### Tokenization\n",
    "**Tokenization:** \"Tokenization is the process of demarcating and possibly classifying sections of a string of input characters. The resulting tokens are then passed on to some other form of processing.\"<br>\n",
    "\n",
    "![alt text](https://cdn.analyticsvidhya.com/wp-content/uploads/2019/11/tokenization.png)\n",
    "\n",
    "[analyticsvidhya](https://cdn.analyticsvidhya.com/wp-content/uploads/2019/11/tokenization.png)"
   ]
  },
  {
   "cell_type": "code",
   "execution_count": null,
   "metadata": {
    "colab": {
     "base_uri": "https://localhost:8080/",
     "height": 68
    },
    "colab_type": "code",
    "executionInfo": {
     "elapsed": 1513,
     "status": "ok",
     "timestamp": 1585054946587,
     "user": {
      "displayName": "Tyler Bikaun",
      "photoUrl": "",
      "userId": "18384825377619195869"
     },
     "user_tz": -480
    },
    "id": "CLrS_kYAoycL",
    "outputId": "28243147-b6b3-4c72-9038-2439fa870efd"
   },
   "outputs": [
    {
     "name": "stdout",
     "output_type": "stream",
     "text": [
      "[nltk_data] Downloading package punkt to /root/nltk_data...\n",
      "[nltk_data]   Unzipping tokenizers/punkt.zip.\n"
     ]
    },
    {
     "data": {
      "text/plain": [
       "True"
      ]
     },
     "execution_count": 5,
     "metadata": {
      "tags": []
     },
     "output_type": "execute_result"
    }
   ],
   "source": [
    "# Import tokenizer\n",
    "nltk.download('punkt')"
   ]
  },
  {
   "cell_type": "code",
   "execution_count": null,
   "metadata": {
    "colab": {
     "base_uri": "https://localhost:8080/",
     "height": 34
    },
    "colab_type": "code",
    "executionInfo": {
     "elapsed": 1814,
     "status": "ok",
     "timestamp": 1585054947048,
     "user": {
      "displayName": "Tyler Bikaun",
      "photoUrl": "",
      "userId": "18384825377619195869"
     },
     "user_tz": -480
    },
    "id": "Ez_PCNDzg00J",
    "outputId": "b46bbdb4-92b4-4b1f-ae93-8e04e2c2f775"
   },
   "outputs": [
    {
     "name": "stdout",
     "output_type": "stream",
     "text": [
      "['WALDEN', 'and', 'ON', 'THE', 'DUTY', 'OF', 'CIVIL', 'DISOBEDIENCE', 'by', 'Henry']\n"
     ]
    }
   ],
   "source": [
    "# Tokenize the data into features (words) and display 10 of them\n",
    "features = nltk.word_tokenize(data)\n",
    "print(features[:10])"
   ]
  },
  {
   "cell_type": "code",
   "execution_count": null,
   "metadata": {
    "colab": {
     "base_uri": "https://localhost:8080/",
     "height": 34
    },
    "colab_type": "code",
    "executionInfo": {
     "elapsed": 1991,
     "status": "ok",
     "timestamp": 1585054947365,
     "user": {
      "displayName": "Tyler Bikaun",
      "photoUrl": "",
      "userId": "18384825377619195869"
     },
     "user_tz": -480
    },
    "id": "ugPnoG9tg00T",
    "outputId": "4cb9e17e-501c-425a-a12c-3c25831c675a"
   },
   "outputs": [
    {
     "name": "stdout",
     "output_type": "stream",
     "text": [
      "['walden', 'and', 'on', 'the', 'duty', 'of', 'civil', 'disobedience', 'by', 'henry']\n"
     ]
    }
   ],
   "source": [
    "# Normalize the features to lower case and exclude punctuation and display 10 of them\n",
    "features = [feature for feature in features if feature.isalpha()]\n",
    "features = [feature.lower() for feature in features]\n",
    "print(features[:10])"
   ]
  },
  {
   "cell_type": "markdown",
   "metadata": {
    "colab_type": "text",
    "id": "fql1NEBXo7Ag"
   },
   "source": [
    "### Stop Words\n",
    "**Stop words:** \"Stop words usually refers to the most common words in a language, there is no single universal list of stop words\"\n",
    "\n",
    "![alt text](https://www.socialtalent.com/wp-content/uploads/2016/09/Screen-Shot-2016-09-01-at-15.01.32.png)"
   ]
  },
  {
   "cell_type": "code",
   "execution_count": null,
   "metadata": {
    "colab": {
     "base_uri": "https://localhost:8080/",
     "height": 68
    },
    "colab_type": "code",
    "executionInfo": {
     "elapsed": 728,
     "status": "ok",
     "timestamp": 1585054948681,
     "user": {
      "displayName": "Tyler Bikaun",
      "photoUrl": "",
      "userId": "18384825377619195869"
     },
     "user_tz": -480
    },
    "id": "hF25hbnDo5NT",
    "outputId": "b0452d8d-6e4f-4c1b-ffc0-c8e9688c5916"
   },
   "outputs": [
    {
     "name": "stdout",
     "output_type": "stream",
     "text": [
      "[nltk_data] Downloading package stopwords to /root/nltk_data...\n",
      "[nltk_data]   Unzipping corpora/stopwords.zip.\n"
     ]
    },
    {
     "data": {
      "text/plain": [
       "True"
      ]
     },
     "execution_count": 8,
     "metadata": {
      "tags": []
     },
     "output_type": "execute_result"
    }
   ],
   "source": [
    "# Import stopwords\n",
    "nltk.download('stopwords')"
   ]
  },
  {
   "cell_type": "code",
   "execution_count": null,
   "metadata": {
    "colab": {},
    "colab_type": "code",
    "id": "At4SBYrdg00Y"
   },
   "outputs": [],
   "source": [
    "# Create a list of (English) stopwords, and then remove them from the features\n",
    "stopwords = stopwords.words('english')\n",
    "features = [feature for feature in features if feature not in stopwords]"
   ]
  },
  {
   "cell_type": "markdown",
   "metadata": {
    "colab_type": "text",
    "id": "7NKwRz1xpH4R"
   },
   "source": [
    "### Feature (word) distribution\n",
    "- What are word frequencies? Should we remove more stopwords?"
   ]
  },
  {
   "cell_type": "code",
   "execution_count": null,
   "metadata": {
    "colab": {
     "base_uri": "https://localhost:8080/",
     "height": 299
    },
    "colab_type": "code",
    "executionInfo": {
     "elapsed": 1432,
     "status": "ok",
     "timestamp": 1585054949792,
     "user": {
      "displayName": "Tyler Bikaun",
      "photoUrl": "",
      "userId": "18384825377619195869"
     },
     "user_tz": -480
    },
    "id": "W-y0YlnZg00f",
    "outputId": "1f33d5aa-5fea-4f7e-e261-2f5544ed9487",
    "scrolled": true
   },
   "outputs": [
    {
     "data": {
      "image/png": "[encoded data removed]",
      "text/plain": [
       "<Figure size 432x288 with 1 Axes>"
      ]
     },
     "metadata": {
      "tags": []
     },
     "output_type": "display_data"
    }
   ],
   "source": [
    "# Count & tabulate the features, and then plot the results\n",
    "frequencies = nltk.FreqDist(features)\n",
    "plot = frequencies.plot(10)"
   ]
  },
  {
   "cell_type": "code",
   "execution_count": null,
   "metadata": {
    "colab": {
     "base_uri": "https://localhost:8080/",
     "height": 187
    },
    "colab_type": "code",
    "executionInfo": {
     "elapsed": 766,
     "status": "ok",
     "timestamp": 1585054951691,
     "user": {
      "displayName": "Tyler Bikaun",
      "photoUrl": "",
      "userId": "18384825377619195869"
     },
     "user_tz": -480
    },
    "id": "r2kgInNXg00n",
    "outputId": "0e44b9fe-1068-47a9-9f8b-3f5bd32ed917"
   },
   "outputs": [
    {
     "name": "stdout",
     "output_type": "stream",
     "text": [
      "['obtrude',\n",
      " 'inquiries',\n",
      " 'egotism',\n",
      " 'anybody',\n",
      " 'narrowness',\n",
      " 'sandwich',\n",
      " 'islanders',\n",
      " 'brahmins',\n",
      " 'liquids',\n",
      " 'chained']\n"
     ]
    }
   ],
   "source": [
    "# Create a list of unique words (hapaxes; occur only once) and display them - these are rare words.\n",
    "hapaxes = frequencies.hapaxes()\n",
    "pprint(hapaxes[:10])"
   ]
  },
  {
   "cell_type": "markdown",
   "metadata": {
    "colab_type": "text",
    "id": "GySoLa2YpU84"
   },
   "source": [
    "### N-grams\n",
    "**n-gram:** \"an n-gram is a contiguous sequence of n items from a given sample of text or speech.\"\n",
    "\n",
    "![alt text](https://images.deepai.org/glossary-terms/867de904ba9b46869af29cead3194b6c/8ARA1.png)\n",
    "\n",
    "[deepai](https://images.deepai.org/glossary-terms/867de904ba9b46869af29cead3194b6c/8ARA1.png)"
   ]
  },
  {
   "cell_type": "code",
   "execution_count": null,
   "metadata": {
    "colab": {
     "base_uri": "https://localhost:8080/",
     "height": 187
    },
    "colab_type": "code",
    "executionInfo": {
     "elapsed": 1026,
     "status": "ok",
     "timestamp": 1585054975404,
     "user": {
      "displayName": "Tyler Bikaun",
      "photoUrl": "",
      "userId": "18384825377619195869"
     },
     "user_tz": -480
    },
    "id": "4XL7E7i1g00y",
    "outputId": "5095a1ea-02a2-4f4b-8de7-ce29b8e7cd3b"
   },
   "outputs": [
    {
     "data": {
      "text/plain": [
       "[(('project', 'gutenberg'), 28),\n",
       " (('one', 'day'), 21),\n",
       " (('new', 'england'), 19),\n",
       " (('one', 'another'), 18),\n",
       " (('time', 'time'), 18),\n",
       " (('project', 'electronic'), 18),\n",
       " (('electronic', 'works'), 16),\n",
       " (('every', 'man'), 15),\n",
       " (('united', 'states'), 15),\n",
       " (('walden', 'pond'), 14)]"
      ]
     },
     "execution_count": 12,
     "metadata": {
      "tags": []
     },
     "output_type": "execute_result"
    }
   ],
   "source": [
    "# Similar to before, let's compute the frequencies of bi-grams (word pairs)\n",
    "# Count & tabulate ngrams from the features.\n",
    "ngrams = nltk.ngrams(features, 2)\n",
    "frequencies = nltk.FreqDist(ngrams)\n",
    "\n",
    "# Show the most common bi-grams\n",
    "frequencies.most_common(10)"
   ]
  },
  {
   "cell_type": "code",
   "execution_count": null,
   "metadata": {
    "colab": {
     "base_uri": "https://localhost:8080/",
     "height": 282
    },
    "colab_type": "code",
    "executionInfo": {
     "elapsed": 1269,
     "status": "ok",
     "timestamp": 1585054975778,
     "user": {
      "displayName": "Tyler Bikaun",
      "photoUrl": "",
      "userId": "18384825377619195869"
     },
     "user_tz": -480
    },
    "id": "MWyloxswg008",
    "outputId": "ba6ba6bf-b586-42dc-ef4e-8bf090607733"
   },
   "outputs": [
    {
     "data": {
      "image/png": "[encoded data removed]",
      "text/plain": [
       "<Figure size 432x288 with 1 Axes>"
      ]
     },
     "metadata": {
      "tags": []
     },
     "output_type": "display_data"
    }
   ],
   "source": [
    "# Create a list each token's length, and plot the result; How many \"long\" words are there?\n",
    "lengths = [len(feature) for feature in features]\n",
    "plot = nltk.FreqDist(lengths).plot(10)"
   ]
  },
  {
   "cell_type": "markdown",
   "metadata": {
    "colab_type": "text",
    "id": "XOf0Hf-WpeZq"
   },
   "source": [
    "### Stemming\n",
    "**Stemming:** \"stemming is the process of reducing inflected (or sometimes derived) words to their word stem, base or root form.\"\n",
    "\n",
    "![alt text](https://kavita-ganesan.com/wp-content/uploads/2019/02/Screen-Shot-2019-02-15-at-2.01.37-PM.png)\n",
    "\n",
    "[kavita ganesan](https://kavita-ganesan.com/wp-content/uploads/2019/02/Screen-Shot-2019-02-15-at-2.01.37-PM.png)"
   ]
  },
  {
   "cell_type": "code",
   "execution_count": null,
   "metadata": {
    "colab": {
     "base_uri": "https://localhost:8080/",
     "height": 187
    },
    "colab_type": "code",
    "executionInfo": {
     "elapsed": 1892,
     "status": "ok",
     "timestamp": 1585054998628,
     "user": {
      "displayName": "Tyler Bikaun",
      "photoUrl": "",
      "userId": "18384825377619195869"
     },
     "user_tz": -480
    },
    "id": "Kz1nd5Xng01D",
    "outputId": "f3e4297a-0d41-4a5b-ba9a-f2dcabead2d0"
   },
   "outputs": [
    {
     "data": {
      "text/plain": [
       "[('one', 531),\n",
       " ('man', 359),\n",
       " ('would', 337),\n",
       " ('like', 313),\n",
       " ('day', 252),\n",
       " ('men', 237),\n",
       " ('live', 235),\n",
       " ('even', 234),\n",
       " ('may', 232),\n",
       " ('pond', 222)]"
      ]
     },
     "execution_count": 14,
     "metadata": {
      "tags": []
     },
     "output_type": "execute_result"
    }
   ],
   "source": [
    "# Initialize a stemmer, stem the features, count & tabulate, and output\n",
    "stemmer = PorterStemmer()\n",
    "stems = [stemmer.stem(feature) for feature in features]\n",
    "frequencies = nltk.FreqDist(stems)\n",
    "frequencies.most_common(10)"
   ]
  },
  {
   "cell_type": "markdown",
   "metadata": {
    "colab_type": "text",
    "id": "fh66gdocygOU"
   },
   "source": [
    "## Preparing text\n",
    "For the next section of this notebook, we need to recreate our text into features and conver them into an NLTK 'Text' object. This allows us to do concordancing and other interesting things."
   ]
  },
  {
   "cell_type": "code",
   "execution_count": null,
   "metadata": {
    "colab": {},
    "colab_type": "code",
    "id": "3or-ylZDg01I"
   },
   "outputs": [],
   "source": [
    "# Re-create the features and create a NLTK Text object, so other cool things can be done\n",
    "features = nltk.word_tokenize(data)\n",
    "text = nltk.Text(features)"
   ]
  },
  {
   "cell_type": "code",
   "execution_count": null,
   "metadata": {
    "colab": {
     "base_uri": "https://localhost:8080/",
     "height": 34
    },
    "colab_type": "code",
    "executionInfo": {
     "elapsed": 1395,
     "status": "ok",
     "timestamp": 1585054999958,
     "user": {
      "displayName": "Tyler Bikaun",
      "photoUrl": "",
      "userId": "18384825377619195869"
     },
     "user_tz": -480
    },
    "id": "46_nguFzg01N",
    "outputId": "69323ce9-7f73-4dfc-d98d-66c8a6dc820f"
   },
   "outputs": [
    {
     "name": "stdout",
     "output_type": "stream",
     "text": [
      "41\n"
     ]
    }
   ],
   "source": [
    "# Count & tabulate, again; list a given word -- try different words!\n",
    "frequencies = nltk.FreqDist(text)\n",
    "print(frequencies['love'])"
   ]
  },
  {
   "cell_type": "markdown",
   "metadata": {
    "colab_type": "text",
    "id": "ZR4LC96gpn64"
   },
   "source": [
    "### Concordancing\n",
    "Cordandancing: \"A concordance is an alphabetical list of the principal words used in a book or body of work, listing every instance of each word with its immediate context.\"\n",
    "\n",
    "![alt text](https://orange3-text.readthedocs.io/en/latest/_images/Concordance-stamped.png)\n",
    "\n",
    "[orange3](https://orange3-text.readthedocs.io/en/latest/_images/Concordance-stamped.png)"
   ]
  },
  {
   "cell_type": "code",
   "execution_count": null,
   "metadata": {
    "colab": {
     "base_uri": "https://localhost:8080/",
     "height": 476
    },
    "colab_type": "code",
    "executionInfo": {
     "elapsed": 1114,
     "status": "ok",
     "timestamp": 1585055018717,
     "user": {
      "displayName": "Tyler Bikaun",
      "photoUrl": "",
      "userId": "18384825377619195869"
     },
     "user_tz": -480
    },
    "id": "7SEHdA10g01R",
    "outputId": "da86abfc-084f-4143-97a7-546342dbb2ac"
   },
   "outputs": [
    {
     "name": "stdout",
     "output_type": "stream",
     "text": [
      "Displaying 25 of 43 matches:\n",
      "r even to found a school , but so to love wisdom as to live according to its d\n",
      " , perhaps we are led oftener by the love of novelty , and a regard for the op\n",
      "the lid , and so have freedom in his love , and in his soul be free . This did\n",
      "r that you do not lay up money ; you love to travel ; you might take the cars \n",
      "n a monument as high as the moon . I love better to see stones in place . The \n",
      "ime for it . As for the religion and love of art of the builders , it is much \n",
      "inspring is vanity , assisted by the love of garlic and bread and butter . Mr.\n",
      " are “ industrious , ” and appear to love labor for its own sake , or perhaps \n",
      "ill do as much . Philanthropy is not love for one ’ s fellow-man in the broade\n",
      "his word for his deed , for I dearly love to talk , —cultivated it , and him t\n",
      "neither did the course of their true love run smooth , —at any rate , how it d\n",
      "k , whether of the head or hands . I love a broad margin to my life . Sometime\n",
      "e pangs and the delights of supernal love in the infernal groves . Yet I love \n",
      " love in the infernal groves . Yet I love to hear their wailing , their dolefu\n",
      "an whom we have hired , with whom we love so well to talk , but the workman wh\n",
      "s soon wearisome and dissipating . I love to be alone . I never found the comp\n",
      "st wise and humorous friend , whom I love much , who keeps himself more secret\n",
      "ons , in whose odorous herb garden I love to stroll sometimes , gathering simp\n",
      "was spring . Visitors I think that I love society as much as most , and am rea\n",
      "He would sometimes exclaim , “ How I love to talk ! By George , I could talk a\n",
      "ulean labor , I knew not . I came to love my rows , my beans , though so many \n",
      "rown-thrasher—or red mavis , as some love to call him—all the morning , glad o\n",
      "eed have you to employ punishments ? Love virtue , and the people will be virt\n",
      "bardine dressed. ” * * “ Come ye who love , And ye who hate , Children of the \n",
      " one , and I reverence them both . I love the wild not less than the good . Th\n",
      "None\n"
     ]
    }
   ],
   "source": [
    "# Do keyword-in-context searching against the text (concordancing)\n",
    "print(text.concordance('love'))"
   ]
  },
  {
   "cell_type": "markdown",
   "metadata": {
    "colab_type": "text",
    "id": "2Xo0rY7Dq0Xq"
   },
   "source": [
    "## Dispersion Plot\n",
    "A method for displaying lexical dispersion."
   ]
  },
  {
   "cell_type": "code",
   "execution_count": null,
   "metadata": {
    "colab": {
     "base_uri": "https://localhost:8080/",
     "height": 295
    },
    "colab_type": "code",
    "executionInfo": {
     "elapsed": 986,
     "status": "ok",
     "timestamp": 1585055019057,
     "user": {
      "displayName": "Tyler Bikaun",
      "photoUrl": "",
      "userId": "18384825377619195869"
     },
     "user_tz": -480
    },
    "id": "DFXnL03Dg01X",
    "outputId": "87436029-e33d-4777-a19d-4d5b992a2b7f"
   },
   "outputs": [
    {
     "data": {
      "image/png": "[encoded data removed]",
      "text/plain": [
       "<Figure size 432x288 with 1 Axes>"
      ]
     },
     "metadata": {
      "tags": []
     },
     "output_type": "display_data"
    }
   ],
   "source": [
    "# Create a dispersion plot of given words\n",
    "plot = text.dispersion_plot(['love', 'war', 'man', 'god'])"
   ]
  },
  {
   "cell_type": "markdown",
   "metadata": {
    "colab_type": "text",
    "id": "rhGxXNbKq3tr"
   },
   "source": [
    "## Bi-gram significance\n",
    "Determine which bi-grams are the most significant considering a defined window size."
   ]
  },
  {
   "cell_type": "code",
   "execution_count": null,
   "metadata": {
    "colab": {
     "base_uri": "https://localhost:8080/",
     "height": 68
    },
    "colab_type": "code",
    "executionInfo": {
     "elapsed": 1920,
     "status": "ok",
     "timestamp": 1585055022699,
     "user": {
      "displayName": "Tyler Bikaun",
      "photoUrl": "",
      "userId": "18384825377619195869"
     },
     "user_tz": -480
    },
    "id": "4yNbUBOfg01c",
    "outputId": "2c0b80f9-f73b-4d93-856d-44af4aed7255"
   },
   "outputs": [
    {
     "name": "stdout",
     "output_type": "stream",
     "text": [
      "... ...; Project Gutenberg-tm; Project Gutenberg; New England; United\n",
      "States; Gutenberg-tm electronic; Literary Archive; Project electronic;\n",
      "Archive Foundation; Literary Foundation\n"
     ]
    }
   ],
   "source": [
    "# output the \"most significant\" bigrams, considering surrounding words (size of window) -- Try different window sizes.\n",
    "text.collocations(num=10, window_size=4)"
   ]
  },
  {
   "cell_type": "markdown",
   "metadata": {
    "colab_type": "text",
    "id": "QfouSW0sq6vg"
   },
   "source": [
    "## Common word context\n",
    "Common word contexts allows us to examine the contexts that are shared by two or more words"
   ]
  },
  {
   "cell_type": "code",
   "execution_count": null,
   "metadata": {
    "colab": {
     "base_uri": "https://localhost:8080/",
     "height": 34
    },
    "colab_type": "code",
    "executionInfo": {
     "elapsed": 2407,
     "status": "ok",
     "timestamp": 1585055023503,
     "user": {
      "displayName": "Tyler Bikaun",
      "photoUrl": "",
      "userId": "18384825377619195869"
     },
     "user_tz": -480
    },
    "id": "zcBoZHrLg01h",
    "outputId": "5fea3117-40a0-42ef-f3d7-8775094c0706"
   },
   "outputs": [
    {
     "name": "stdout",
     "output_type": "stream",
     "text": [
      "the_of\n"
     ]
    }
   ],
   "source": [
    "# Given a set of words, what words are nearby\n",
    "text.common_contexts(['love', 'war', 'man', 'god'])"
   ]
  },
  {
   "cell_type": "markdown",
   "metadata": {
    "colab_type": "text",
    "id": "5fdltxcvq_iw"
   },
   "source": [
    "## Word similarities\n",
    "What words are similar to each other?\n",
    "This implementation should be remembered when we look at *word embeddings*. \n",
    "\n",
    "The method that is implemented by NLTK is \"Distributional similarity: find other words which appear in the same contexts as the specified word.\""
   ]
  },
  {
   "cell_type": "code",
   "execution_count": null,
   "metadata": {
    "colab": {
     "base_uri": "https://localhost:8080/",
     "height": 51
    },
    "colab_type": "code",
    "executionInfo": {
     "elapsed": 1064,
     "status": "ok",
     "timestamp": 1585055026526,
     "user": {
      "displayName": "Tyler Bikaun",
      "photoUrl": "",
      "userId": "18384825377619195869"
     },
     "user_tz": -480
    },
    "id": "2qLrXz-Ig01n",
    "outputId": "e52d6510-e40e-45db-c43e-ffcfe975f46a",
    "scrolled": true
   },
   "outputs": [
    {
     "name": "stdout",
     "output_type": "stream",
     "text": [
      "were have take , had was heard position labors advantage saw meet\n",
      "brain duty house built at life not made\n"
     ]
    }
   ],
   "source": [
    "# List the words (features) most associated with the given word\n",
    "text.similar('love')"
   ]
  },
  {
   "cell_type": "code",
   "execution_count": null,
   "metadata": {
    "colab": {
     "base_uri": "https://localhost:8080/",
     "height": 68
    },
    "colab_type": "code",
    "executionInfo": {
     "elapsed": 927,
     "status": "ok",
     "timestamp": 1585055026527,
     "user": {
      "displayName": "Tyler Bikaun",
      "photoUrl": "",
      "userId": "18384825377619195869"
     },
     "user_tz": -480
    },
    "id": "dqtDPBxfg01r",
    "outputId": "8b945d6e-f85f-4900-eef6-b5b23f1e5e8c"
   },
   "outputs": [
    {
     "name": "stdout",
     "output_type": "stream",
     "text": [
      "I trust that none will\n",
      "stretch the seams in putting on the coat, for it may do good service to\n",
      "him whom it fits.\n"
     ]
    }
   ],
   "source": [
    "# create a list of sentences, and display one -- season to taste\n",
    "sentences = nltk.sent_tokenize(data)\n",
    "sentence  = sentences[14]\n",
    "print(sentence)"
   ]
  },
  {
   "cell_type": "markdown",
   "metadata": {
    "colab_type": "text",
    "id": "OJhgqkAtrIdx"
   },
   "source": [
    "## Parts-of-speech (POS)\n",
    "**POS:** \"part of speech is a category of words (or, more generally, of lexical items) that have similar grammatical properties. Words that are assigned to the same part of speech generally display similar syntactic behavior—they play similar roles within the grammatical structure of sentences—and sometimes similar morphology in that they undergo inflection for similar properties.\"\n",
    "\n",
    "![alt text](https://1.bp.blogspot.com/-spGNcdlw7g4/XHY5fS25uVI/AAAAAAAABqY/63lfyQFHkl4rf1ls0vvLIBRRc8TEsBZvgCLcBGAs/s640/Capture.PNG)\n",
    "\n",
    "[thinkifi](https://1.bp.blogspot.com/-spGNcdlw7g4/XHY5fS25uVI/AAAAAAAABqY/63lfyQFHkl4rf1ls0vvLIBRRc8TEsBZvgCLcBGAs/s640/Capture.PNG)"
   ]
  },
  {
   "cell_type": "code",
   "execution_count": null,
   "metadata": {
    "colab": {
     "base_uri": "https://localhost:8080/",
     "height": 85
    },
    "colab_type": "code",
    "executionInfo": {
     "elapsed": 1022,
     "status": "ok",
     "timestamp": 1585055056831,
     "user": {
      "displayName": "Tyler Bikaun",
      "photoUrl": "",
      "userId": "18384825377619195869"
     },
     "user_tz": -480
    },
    "id": "5-SNNsgArM84",
    "outputId": "1ec95c86-4803-42d8-e22a-4fde32421fe9"
   },
   "outputs": [
    {
     "name": "stdout",
     "output_type": "stream",
     "text": [
      "[nltk_data] Downloading package averaged_perceptron_tagger to\n",
      "[nltk_data]     /root/nltk_data...\n",
      "[nltk_data]   Unzipping taggers/averaged_perceptron_tagger.zip.\n"
     ]
    },
    {
     "data": {
      "text/plain": [
       "True"
      ]
     },
     "execution_count": 23,
     "metadata": {
      "tags": []
     },
     "output_type": "execute_result"
    }
   ],
   "source": [
    "# Import perceptron tagger\n",
    "# POS is a supervised learning process so we need to load in a ML model to aid us.\n",
    "nltk.download('averaged_perceptron_tagger')"
   ]
  },
  {
   "cell_type": "code",
   "execution_count": null,
   "metadata": {
    "colab": {
     "base_uri": "https://localhost:8080/",
     "height": 54
    },
    "colab_type": "code",
    "executionInfo": {
     "elapsed": 862,
     "status": "ok",
     "timestamp": 1585055056832,
     "user": {
      "displayName": "Tyler Bikaun",
      "photoUrl": "",
      "userId": "18384825377619195869"
     },
     "user_tz": -480
    },
    "id": "YX3O1garg01w",
    "outputId": "94f4e53e-df2f-427d-a4e1-15beb95b1a78"
   },
   "outputs": [
    {
     "name": "stdout",
     "output_type": "stream",
     "text": [
      "[('I', 'PRP'), ('trust', 'VBP'), ('that', 'DT'), ('none', 'NN'), ('will', 'MD'), ('stretch', 'VB'), ('the', 'DT'), ('seams', 'NNS'), ('in', 'IN'), ('putting', 'VBG'), ('on', 'IN'), ('the', 'DT'), ('coat', 'NN'), (',', ','), ('for', 'IN'), ('it', 'PRP'), ('may', 'MD'), ('do', 'VB'), ('good', 'JJ'), ('service', 'NN'), ('to', 'TO'), ('him', 'PRP'), ('whom', 'WP'), ('it', 'PRP'), ('fits', 'VBZ'), ('.', '.')]\n"
     ]
    }
   ],
   "source": [
    "# Tokenize the sentence and parse it into parts-of-speech, all in one go.\n",
    "sentence = nltk.pos_tag(nltk.word_tokenize(sentence))\n",
    "print(sentence)"
   ]
  },
  {
   "cell_type": "markdown",
   "metadata": {
    "colab_type": "text",
    "id": "yVRkuk1arQob"
   },
   "source": [
    "## Named entity extraction\n",
    "**Chunking:** \"Chunking is a process of extracting phrases from unstructured text.\"<br>\n",
    "\n",
    "![alt text](https://www.tutorialkart.com/wp-content/uploads/2017/06/chunker_ex.png)\n",
    "\n",
    "[tutorialkart](https://www.tutorialkart.com/wp-content/uploads/2017/06/chunker_ex.png)"
   ]
  },
  {
   "cell_type": "code",
   "execution_count": null,
   "metadata": {
    "colab": {
     "base_uri": "https://localhost:8080/",
     "height": 119
    },
    "colab_type": "code",
    "executionInfo": {
     "elapsed": 1326,
     "status": "ok",
     "timestamp": 1585055105198,
     "user": {
      "displayName": "Tyler Bikaun",
      "photoUrl": "",
      "userId": "18384825377619195869"
     },
     "user_tz": -480
    },
    "id": "4TmlAUNSrVoq",
    "outputId": "7027b712-e7b1-44ef-8031-c35a1c134f71"
   },
   "outputs": [
    {
     "name": "stdout",
     "output_type": "stream",
     "text": [
      "[nltk_data] Downloading package maxent_ne_chunker to\n",
      "[nltk_data]     /root/nltk_data...\n",
      "[nltk_data]   Unzipping chunkers/maxent_ne_chunker.zip.\n",
      "[nltk_data] Downloading package words to /root/nltk_data...\n",
      "[nltk_data]   Unzipping corpora/words.zip.\n"
     ]
    },
    {
     "data": {
      "text/plain": [
       "True"
      ]
     },
     "execution_count": 25,
     "metadata": {
      "tags": []
     },
     "output_type": "execute_result"
    }
   ],
   "source": [
    "# Import chunker and wordlist corpus\n",
    "nltk.download('maxent_ne_chunker')\n",
    "nltk.download('words')"
   ]
  },
  {
   "cell_type": "code",
   "execution_count": null,
   "metadata": {
    "colab": {
     "base_uri": "https://localhost:8080/",
     "height": 476
    },
    "colab_type": "code",
    "executionInfo": {
     "elapsed": 1194,
     "status": "ok",
     "timestamp": 1585055105203,
     "user": {
      "displayName": "Tyler Bikaun",
      "photoUrl": "",
      "userId": "18384825377619195869"
     },
     "user_tz": -480
    },
    "id": "DYeI3TYAg013",
    "outputId": "736ad35f-d859-4e48-8bec-d1a29c7a3a85",
    "scrolled": true
   },
   "outputs": [
    {
     "name": "stdout",
     "output_type": "stream",
     "text": [
      "(S\n",
      "  I/PRP\n",
      "  trust/VBP\n",
      "  that/DT\n",
      "  none/NN\n",
      "  will/MD\n",
      "  stretch/VB\n",
      "  the/DT\n",
      "  seams/NNS\n",
      "  in/IN\n",
      "  putting/VBG\n",
      "  on/IN\n",
      "  the/DT\n",
      "  coat/NN\n",
      "  ,/,\n",
      "  for/IN\n",
      "  it/PRP\n",
      "  may/MD\n",
      "  do/VB\n",
      "  good/JJ\n",
      "  service/NN\n",
      "  to/TO\n",
      "  him/PRP\n",
      "  whom/WP\n",
      "  it/PRP\n",
      "  fits/VBZ\n",
      "  ./.)\n"
     ]
    }
   ],
   "source": [
    "# Extract named enities from a sentence, and print the results\n",
    "# chunking\n",
    "entities = nltk.ne_chunk(sentence)\n",
    "print(entities)"
   ]
  },
  {
   "cell_type": "markdown",
   "metadata": {
    "colab_type": "text",
    "id": "CWP672dkrZSq"
   },
   "source": [
    "### Visualisation Tree"
   ]
  },
  {
   "cell_type": "code",
   "execution_count": null,
   "metadata": {
    "colab": {},
    "colab_type": "code",
    "id": "Qxe-oE7xg02A",
    "scrolled": true
   },
   "outputs": [],
   "source": [
    "# output the entites graphically\n",
    "#entities.draw()"
   ]
  },
  {
   "cell_type": "markdown",
   "metadata": {
    "colab_type": "text",
    "id": "4RKBXvvug02G"
   },
   "source": [
    "This is the end of the Notebook. I hope you found it useful."
   ]
  }
 ],
 "metadata": {
  "colab": {
   "collapsed_sections": [],
   "name": "12.3.0-An introduction to the NLTK.ipynb",
   "provenance": [],
   "toc_visible": true
  },
  "kernelspec": {
   "display_name": "Python 3",
   "language": "python",
   "name": "python3"
  },
  "language_info": {
   "codemirror_mode": {
    "name": "ipython",
    "version": 3
   },
   "file_extension": ".py",
   "mimetype": "text/x-python",
   "name": "python",
   "nbconvert_exporter": "python",
   "pygments_lexer": "ipython3",
   "version": "3.6.5"
  }
 },
 "nbformat": 4,
 "nbformat_minor": 4
}
